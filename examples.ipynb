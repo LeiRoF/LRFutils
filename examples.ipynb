{
 "cells": [
  {
   "cell_type": "markdown",
   "metadata": {},
   "source": [
    "---\n",
    "\n",
    "# Progress bar"
   ]
  },
  {
   "cell_type": "code",
   "execution_count": 1,
   "metadata": {},
   "outputs": [
    {
     "name": "stdout",
     "output_type": "stream",
     "text": [
      "\u001b[32;1m━━━━━━━━━━━━━━━━━━━━━━━━━━━━━━━━━━━━━━━━━━━━━━━━━━━━━━━━━ \u001b[32;1m100% \u001b[31;1m1000/1000 \u001b[35m0:00:10\u001b[0m[0meta \u001b[34m0:00:00\u001b[0m\n",
      "\u001b[0mThe best bar \u001b[33m━━━━━━━━━━━━━━━━━━━━━━━━━━\u001b[33m╸\u001b[37;1m━━━━━━━━━━━━━━━━━━━ \u001b[33m58% \u001b[31;1m586/1000 \u001b[35m0:00:06\u001b[0m[34m0:00:04\u001b[0m\n",
      "\u001b[0mWaw, another incredible bar \u001b[32;1m━━━━━━━━━━━━━━━━━━━━━━━━━━━━━ \u001b[32;1m100% \u001b[31;1m1000/1000 \u001b[35m0:00:10\u001b[0m[0meta \u001b[34m0:00:00\u001b[0m\n"
     ]
    }
   ],
   "source": [
    "from LRFutils import progress\n",
    "import time\n",
    "\n",
    "N = 1000\n",
    "\n",
    "a = progress.Bar(max = N)\n",
    "\n",
    "for i in range(N):\n",
    "    a(i+1)\n",
    "    time.sleep(0.01)\n",
    "\n",
    "a = progress.Bar(prefix = \"The best bar\", max = N)\n",
    "\n",
    "for i in range(N):\n",
    "    a(i+1, prefix=i if i<N/2 else None)\n",
    "    if i == int(2*N/3):\n",
    "        a.stop()\n",
    "        break\n",
    "    time.sleep(0.01)\n",
    "\n",
    "a = progress.Bar(prefix = \"Waw, another incredible bar\", max = N)\n",
    "\n",
    "for i in range(N):\n",
    "    a(i+1)\n",
    "    time.sleep(0.01)"
   ]
  },
  {
   "cell_type": "markdown",
   "metadata": {},
   "source": [
    "---\n",
    "\n",
    "# Logs"
   ]
  },
  {
   "cell_type": "code",
   "execution_count": 4,
   "metadata": {},
   "outputs": [
    {
     "ename": "NameError",
     "evalue": "name 'log' is not defined",
     "output_type": "error",
     "traceback": [
      "\u001b[1;31m---------------------------------------------------------------------------\u001b[0m",
      "\u001b[1;31mNameError\u001b[0m                                 Traceback (most recent call last)",
      "\u001b[1;32mc:\\Users\\vince\\Documents\\Dev\\Perso\\LRFutils\\examples.ipynb Cell 4\u001b[0m in \u001b[0;36m<cell line: 3>\u001b[1;34m()\u001b[0m\n\u001b[0;32m      <a href='vscode-notebook-cell:/c%3A/Users/vince/Documents/Dev/Perso/LRFutils/examples.ipynb#W1sZmlsZQ%3D%3D?line=0'>1</a>\u001b[0m \u001b[39mfrom\u001b[39;00m \u001b[39mLRFutils\u001b[39;00m \u001b[39mimport\u001b[39;00m logs\n\u001b[1;32m----> <a href='vscode-notebook-cell:/c%3A/Users/vince/Documents/Dev/Perso/LRFutils/examples.ipynb#W1sZmlsZQ%3D%3D?line=2'>3</a>\u001b[0m log\u001b[39m.\u001b[39minfo(\u001b[39m\"\u001b[39m\u001b[39mHello world!\u001b[39m\u001b[39m\"\u001b[39m)\n\u001b[0;32m      <a href='vscode-notebook-cell:/c%3A/Users/vince/Documents/Dev/Perso/LRFutils/examples.ipynb#W1sZmlsZQ%3D%3D?line=3'>4</a>\u001b[0m log\u001b[39m.\u001b[39mwarn(\u001b[39m\"\u001b[39m\u001b[39mHello world!\u001b[39m\u001b[39m\"\u001b[39m)\n\u001b[0;32m      <a href='vscode-notebook-cell:/c%3A/Users/vince/Documents/Dev/Perso/LRFutils/examples.ipynb#W1sZmlsZQ%3D%3D?line=5'>6</a>\u001b[0m \u001b[39mtry\u001b[39;00m:\n",
      "\u001b[1;31mNameError\u001b[0m: name 'log' is not defined"
     ]
    }
   ],
   "source": [
    "from LRFutils import logs\n",
    "\n",
    "logs.info(\"Hello world!\")\n",
    "logs.warn(\"Hello world!\")\n",
    "\n",
    "try:\n",
    "    if notDefinedVariable == True:\n",
    "        print(\"Euh, this is not supposed to work\")\n",
    "except NameError:\n",
    "    logs.error(\"Hello world!\")\n",
    "    raise\n",
    "\n",
    "\n"
   ]
  }
 ],
 "metadata": {
  "kernelspec": {
   "display_name": "Python 3.10.5 64-bit (windows store)",
   "language": "python",
   "name": "python3"
  },
  "language_info": {
   "codemirror_mode": {
    "name": "ipython",
    "version": 3
   },
   "file_extension": ".py",
   "mimetype": "text/x-python",
   "name": "python",
   "nbconvert_exporter": "python",
   "pygments_lexer": "ipython3",
   "version": "3.10.8"
  },
  "orig_nbformat": 4,
  "vscode": {
   "interpreter": {
    "hash": "e0d398e7c3cc3d2b8386dfea47f5eae3378d5d39db7e2c8ef87e93246db0bfd2"
   }
  }
 },
 "nbformat": 4,
 "nbformat_minor": 2
}
