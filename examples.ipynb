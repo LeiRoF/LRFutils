{
 "cells": [
  {
   "cell_type": "code",
   "execution_count": 1,
   "metadata": {},
   "outputs": [
    {
     "ename": "AttributeError",
     "evalue": "module 'LRFutils.progress' has no attribute 'bar'",
     "output_type": "error",
     "traceback": [
      "\u001b[1;31m---------------------------------------------------------------------------\u001b[0m",
      "\u001b[1;31mAttributeError\u001b[0m                            Traceback (most recent call last)",
      "\u001b[1;32mc:\\Users\\vince\\Documents\\Dev\\Perso\\LRFutils\\examples.ipynb Cell 1\u001b[0m in \u001b[0;36m<cell line: 6>\u001b[1;34m()\u001b[0m\n\u001b[0;32m      <a href='vscode-notebook-cell:/c%3A/Users/vince/Documents/Dev/Perso/LRFutils/examples.ipynb#W0sZmlsZQ%3D%3D?line=1'>2</a>\u001b[0m \u001b[39mimport\u001b[39;00m \u001b[39mtime\u001b[39;00m\n\u001b[0;32m      <a href='vscode-notebook-cell:/c%3A/Users/vince/Documents/Dev/Perso/LRFutils/examples.ipynb#W0sZmlsZQ%3D%3D?line=3'>4</a>\u001b[0m N \u001b[39m=\u001b[39m \u001b[39m1000\u001b[39m\n\u001b[1;32m----> <a href='vscode-notebook-cell:/c%3A/Users/vince/Documents/Dev/Perso/LRFutils/examples.ipynb#W0sZmlsZQ%3D%3D?line=5'>6</a>\u001b[0m a \u001b[39m=\u001b[39m progress\u001b[39m.\u001b[39;49mbar(\u001b[39mmax\u001b[39m \u001b[39m=\u001b[39m N)\n\u001b[0;32m      <a href='vscode-notebook-cell:/c%3A/Users/vince/Documents/Dev/Perso/LRFutils/examples.ipynb#W0sZmlsZQ%3D%3D?line=7'>8</a>\u001b[0m \u001b[39mfor\u001b[39;00m i \u001b[39min\u001b[39;00m \u001b[39mrange\u001b[39m(N):\n\u001b[0;32m      <a href='vscode-notebook-cell:/c%3A/Users/vince/Documents/Dev/Perso/LRFutils/examples.ipynb#W0sZmlsZQ%3D%3D?line=8'>9</a>\u001b[0m     a(i\u001b[39m+\u001b[39m\u001b[39m1\u001b[39m)\n",
      "\u001b[1;31mAttributeError\u001b[0m: module 'LRFutils.progress' has no attribute 'bar'"
     ]
    }
   ],
   "source": [
    "from LRFutils import progress\n",
    "import time\n",
    "\n",
    "N = 1000\n",
    "\n",
    "a = progress.Bar(max = N)\n",
    "\n",
    "for i in range(N):\n",
    "    a(i+1)\n",
    "    time.sleep(0.01)\n",
    "\n",
    "a = progress.Bar(prefix = \"The best bar\", max = N)\n",
    "\n",
    "for i in range(N):\n",
    "    a(i+1, prefix=i if i<N/2 else None)\n",
    "    if i == N-300:\n",
    "        a.stop()\n",
    "        break\n",
    "    time.sleep(0.01)\n",
    "\n",
    "a = progress.Bar(prefix = \"Waw, another incredible bar\", max = N)\n",
    "\n",
    "for i in range(N):\n",
    "    a(i+1)\n",
    "    time.sleep(0.01)"
   ]
  },
  {
   "cell_type": "code",
   "execution_count": null,
   "metadata": {},
   "outputs": [
    {
     "name": "stdout",
     "output_type": "stream",
     "text": [
      "\u001b[34m18/08/2022\u001b[0m at \u001b[35m16:16:27\u001b[0m | \u001b[32m[INFO] \u001b[0mHello world!\n",
      "\u001b[34m18/08/2022\u001b[0m at \u001b[35m16:16:27\u001b[0m | \u001b[33m[WARNING] Hello world!\u001b[0m\n",
      "\u001b[34m18/08/2022\u001b[0m at \u001b[35m16:16:27\u001b[0m | \u001b[41m[ERROR] Hello world!\u001b[0m\n",
      " -> Look at \u001b[32mlogs/2022-08-18_16.16.27.447227.log\u001b[0m for more information.\n",
      "\n"
     ]
    }
   ],
   "source": [
    "from LRFutils import log\n",
    "\n",
    "log.info(\"Hello world!\")\n",
    "log.warn(\"Hello world!\")\n",
    "log.error(\"Hello world!\")"
   ]
  }
 ],
 "metadata": {
  "kernelspec": {
   "display_name": "Python 3.10.5 64-bit (windows store)",
   "language": "python",
   "name": "python3"
  },
  "language_info": {
   "codemirror_mode": {
    "name": "ipython",
    "version": 3
   },
   "file_extension": ".py",
   "mimetype": "text/x-python",
   "name": "python",
   "nbconvert_exporter": "python",
   "pygments_lexer": "ipython3",
   "version": "3.10.6"
  },
  "orig_nbformat": 4,
  "vscode": {
   "interpreter": {
    "hash": "e0d398e7c3cc3d2b8386dfea47f5eae3378d5d39db7e2c8ef87e93246db0bfd2"
   }
  }
 },
 "nbformat": 4,
 "nbformat_minor": 2
}
