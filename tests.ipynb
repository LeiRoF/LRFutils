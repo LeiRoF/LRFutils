{
 "cells": [
  {
   "cell_type": "code",
   "execution_count": 1,
   "metadata": {},
   "outputs": [
    {
     "name": "stdout",
     "output_type": "stream",
     "text": [
      "\u001b[32;1m━━━━━━━━━━━━━━━━━━━━━━━━━━━━━━━━━━━━━━━━━━━━━━━━━━━━━━━━━ \u001b[32;1m100% \u001b[31;1m1000/1000 \u001b[35m0:00:10\u001b[0m[0meta \u001b[34m0:00:00\u001b[0m\n",
      "test\n",
      "\u001b[0mThe best bar \u001b[33m━━━━━━━━━━━━━━━━━━━━━━━━━━━━━━\u001b[33m╸\u001b[37;1m━━━━━━━━━━━━━━━ \u001b[33m67% \u001b[31;1m671/1000 \u001b[35m0:00:07\u001b[0m[34m0:00:03\u001b[0m\n",
      "\u001b[0mWaw, another incredible bar \u001b[32;1m━━━━━━━━━━━\u001b[37;1m╺\u001b[37;1m━━━━━━━ \u001b[32;1m58% \u001b[31;1m583/1000 \u001b[35m0:00:06 \u001b[0meta \u001b[34m0:00:04\u001b[0m\r"
     ]
    }
   ],
   "source": [
    "from LRFutils import progress\n",
    "import time\n",
    "\n",
    "N = 1000\n",
    "\n",
    "a = progress.bar(max = N)\n",
    "\n",
    "for i in range(N):\n",
    "    a(i+1)\n",
    "    time.sleep(0.01)\n",
    "\n",
    "a = progress.bar(prefix = \"The best bar\", max = N)\n",
    "\n",
    "for i in range(N):\n",
    "    a(i+1, prefix=i if i<N/2 else None)\n",
    "    if i == N-300:\n",
    "        a.stop()\n",
    "        break\n",
    "    time.sleep(0.01)\n",
    "\n",
    "a = progress.bar(prefix = \"Waw, another incredible bar\", max = N)\n",
    "\n",
    "for i in range(N):\n",
    "    a(i+1)\n",
    "    time.sleep(0.01)"
   ]
  }
 ],
 "metadata": {
  "kernelspec": {
   "display_name": "Python 3.10.5 64-bit (windows store)",
   "language": "python",
   "name": "python3"
  },
  "language_info": {
   "codemirror_mode": {
    "name": "ipython",
    "version": 3
   },
   "file_extension": ".py",
   "mimetype": "text/x-python",
   "name": "python",
   "nbconvert_exporter": "python",
   "pygments_lexer": "ipython3",
   "version": "3.10.5"
  },
  "orig_nbformat": 4,
  "vscode": {
   "interpreter": {
    "hash": "e0d398e7c3cc3d2b8386dfea47f5eae3378d5d39db7e2c8ef87e93246db0bfd2"
   }
  }
 },
 "nbformat": 4,
 "nbformat_minor": 2
}
