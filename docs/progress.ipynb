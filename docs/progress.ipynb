{
 "cells": [
  {
   "cell_type": "markdown",
   "metadata": {},
   "source": [
    "# ⌛ Progress\n",
    "\n",
    "This module allow to create a progress bar when you are performing a long task.\n",
    "\n",
    "## Example"
   ]
  },
  {
   "cell_type": "code",
   "execution_count": 6,
   "metadata": {},
   "outputs": [
    {
     "name": "stdout",
     "output_type": "stream",
     "text": [
      "\u001b[0mDemo progress bar \u001b[33m━━━━━━━━━━━━━━━━━━━━━━━━\u001b[37;1m╺\u001b[37;1m━━━━━━━━━━━━━━━━ \u001b[33m58% \u001b[31;1m587/1000 \u001b[35m0:00:06\u001b[0m\n"
     ]
    }
   ],
   "source": [
    "from LRFutils import progress\n",
    "import time\n",
    "\n",
    "N = 1000\n",
    "# creation (with all parameters)\n",
    "myBar = progress.Bar(max = N, width = 80, prefix = \"Demo progress bar\", eta = True, decimals = 0, show_duration = True, average_ETA = 10)\n",
    "\n",
    "for i in range(N):\n",
    "    # update\n",
    "    myBar(i+1)\n",
    "    time.sleep(0.01)\n",
    "    if i == int(2*N/3):\n",
    "        myBar.stop()\n",
    "        break"
   ]
  },
  {
   "cell_type": "markdown",
   "metadata": {},
   "source": [
    "---\n",
    "\n",
    "## Class attributes\n",
    "\n",
    "Nothing here...\n",
    "\n",
    "---\n",
    "\n",
    "## Class methods\n",
    "\n",
    "### Builder\n",
    "\n",
    "Create a progress bar object\n",
    "\n",
    "```python\n",
    "progress.Bar(max = 1, width = 80, prefix = \"\", eta = True, decimals = 0, duration = True, average_ETA = 10)\n",
    "```\n",
    "**Parameters:**\n",
    "- `max : float | int` maximum value of the bar. By default, this value is 1, so you have to update the bar using a ratio.\n",
    "- `widht : int` bar's total lenght (80 characters by default)\n",
    "- `prefix : str` short message displayed before the bar\n",
    "- `eta : boolean` display or not the estimation of remaining time\n",
    "- `decimals : int` number of decimals showed for the percentage\n",
    "- `duration : boolean` display or not the spent time\n",
    "- `average_ETA : int` average the computation of the estimation of time arrival on several progress update in order to prevent fluctuations.\n",
    "\n",
    "**Return types:**\n",
    "- `Bar` progress bar object\n",
    "\n",
    "---\n",
    "\n",
    "## Object attributes\n",
    "\n",
    "- `max : float` maximum value of the bar. By default, this value is 1, so you have to update the bar using a ratio.\n",
    "- `widht : int` bar's total lenght (80 characters by default)\n",
    "- `prefix : str` short message displayed before the bar\n",
    "- `eta : boolean` display or not the estimation of remaining time\n",
    "- `decimals : int` number of decimals showed for the percentage\n",
    "- `duration : boolean` display or not the spent time\n",
    "- `lastProgress : float` last recorded `progress` value\n",
    "- `lastUpdate : float` date (in second) of the last update\n",
    "- `start_at : float` date (in second) of the creation of the bar\n",
    "- `lastETA : float | str` last estimation of remaining time (in second). If there is no previous one, lastETA store `\"-\"`\n",
    "\n",
    "---\n",
    "\n",
    "## Object methods\n",
    "\n",
    "### Updater\n",
    "Update the bar (print it in the terminal)\n",
    "```python\n",
    "myBar(progress: float, prefix=None, stop=False)\n",
    "```\n",
    "\n",
    "**Parameters:**\n",
    "- `progress : float` the progression of the computation. Tha bar will be filed according to the ratio `progress / max`\n",
    "- `prefix : str` short message displayed before the bar\n",
    "\n",
    "> Note: if the `progress` reach the `max` value, the bar will automatically stop. A running progress bar ends with a '\\r' character in order to be overwritten by the next update. When the bar is stopped, the printed line ends with '\\n' so you can continue to print other stuff. If you update the bar after the bar stoped, it will display a new bar.\n",
    "\n",
    "**Return types:** None\n",
    "\n",
    "### Force stop\n",
    "\n",
    "Update and stop the bar by putting it in an incomplet mode.\n",
    "\n",
    "```python\n",
    "stop()\n",
    "```\n",
    "\n",
    "> Once a bar is stopped, the line cannot be overwritten, so it cannot be updated anymore. If you update the bar, it will display a new bar.\n",
    "\n",
    "**Parameters:** None\n",
    "\n",
    "**Return types:** None\n",
    "\n",
    "\n"
   ]
  },
  {
   "cell_type": "markdown",
   "metadata": {},
   "source": []
  }
 ],
 "metadata": {
  "kernelspec": {
   "display_name": "Python 3.10.8 64-bit (microsoft store)",
   "language": "python",
   "name": "python3"
  },
  "language_info": {
   "codemirror_mode": {
    "name": "ipython",
    "version": 3
   },
   "file_extension": ".py",
   "mimetype": "text/x-python",
   "name": "python",
   "nbconvert_exporter": "python",
   "pygments_lexer": "ipython3",
   "version": "3.10.8"
  },
  "orig_nbformat": 4,
  "vscode": {
   "interpreter": {
    "hash": "e0d398e7c3cc3d2b8386dfea47f5eae3378d5d39db7e2c8ef87e93246db0bfd2"
   }
  }
 },
 "nbformat": 4,
 "nbformat_minor": 2
}
