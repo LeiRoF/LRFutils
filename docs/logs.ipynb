{
 "cells": [
  {
   "cell_type": "markdown",
   "metadata": {},
   "source": [
    "# 📜 Logs"
   ]
  },
  {
   "cell_type": "code",
   "execution_count": 1,
   "metadata": {},
   "outputs": [
    {
     "name": "stdout",
     "output_type": "stream",
     "text": [
      "\u001b[34m22/10/2022\u001b[0m at \u001b[35m09:41:20\u001b[0m | \u001b[32m[INFO] \u001b[0mHello world!\n",
      "\u001b[34m22/10/2022\u001b[0m at \u001b[35m09:41:20\u001b[0m | \u001b[33m[WARNING] Hello world!\u001b[0m\n",
      "\u001b[34m22/10/2022\u001b[0m at \u001b[35m09:41:20\u001b[0m | \u001b[41m[ERROR] Hello world!\u001b[0m\n",
      " -> Look at \u001b[32mlogs/2022-10-22_09.41.20.923615.logs\u001b[0m for more information.\n",
      "\n"
     ]
    },
    {
     "ename": "NameError",
     "evalue": "name 'notDefinedVariable' is not defined",
     "output_type": "error",
     "traceback": [
      "\u001b[1;31m---------------------------------------------------------------------------\u001b[0m",
      "\u001b[1;31mNameError\u001b[0m                                 Traceback (most recent call last)",
      "\u001b[1;32mc:\\Users\\vince\\Documents\\Dev\\Perso\\LRFutils\\docs\\logs.ipynb Cell 2\u001b[0m in \u001b[0;36m<cell line: 6>\u001b[1;34m()\u001b[0m\n\u001b[0;32m      <a href='vscode-notebook-cell:/c%3A/Users/vince/Documents/Dev/Perso/LRFutils/docs/logs.ipynb#W0sZmlsZQ%3D%3D?line=3'>4</a>\u001b[0m logs\u001b[39m.\u001b[39mwarn(\u001b[39m\"\u001b[39m\u001b[39mHello world!\u001b[39m\u001b[39m\"\u001b[39m)\n\u001b[0;32m      <a href='vscode-notebook-cell:/c%3A/Users/vince/Documents/Dev/Perso/LRFutils/docs/logs.ipynb#W0sZmlsZQ%3D%3D?line=5'>6</a>\u001b[0m \u001b[39mtry\u001b[39;00m:\n\u001b[1;32m----> <a href='vscode-notebook-cell:/c%3A/Users/vince/Documents/Dev/Perso/LRFutils/docs/logs.ipynb#W0sZmlsZQ%3D%3D?line=6'>7</a>\u001b[0m     \u001b[39mif\u001b[39;00m notDefinedVariable \u001b[39m==\u001b[39m \u001b[39mTrue\u001b[39;00m:\n\u001b[0;32m      <a href='vscode-notebook-cell:/c%3A/Users/vince/Documents/Dev/Perso/LRFutils/docs/logs.ipynb#W0sZmlsZQ%3D%3D?line=7'>8</a>\u001b[0m         \u001b[39mprint\u001b[39m(\u001b[39m\"\u001b[39m\u001b[39mEuh, this is not supposed to work\u001b[39m\u001b[39m\"\u001b[39m)\n\u001b[0;32m      <a href='vscode-notebook-cell:/c%3A/Users/vince/Documents/Dev/Perso/LRFutils/docs/logs.ipynb#W0sZmlsZQ%3D%3D?line=8'>9</a>\u001b[0m \u001b[39mexcept\u001b[39;00m \u001b[39mNameError\u001b[39;00m:\n",
      "\u001b[1;31mNameError\u001b[0m: name 'notDefinedVariable' is not defined"
     ]
    }
   ],
   "source": [
    "from LRFutils import logs\n",
    "\n",
    "logs.info(\"Hello world!\")\n",
    "logs.warn(\"Hello world!\")\n",
    "\n",
    "try:\n",
    "    if notDefinedVariable == True:\n",
    "        print(\"Euh, this is not supposed to work\")\n",
    "except NameError:\n",
    "    logs.error(\"Hello world!\")\n",
    "    raise"
   ]
  }
 ],
 "metadata": {
  "kernelspec": {
   "display_name": "Python 3.10.8 64-bit (microsoft store)",
   "language": "python",
   "name": "python3"
  },
  "language_info": {
   "codemirror_mode": {
    "name": "ipython",
    "version": 3
   },
   "file_extension": ".py",
   "mimetype": "text/x-python",
   "name": "python",
   "nbconvert_exporter": "python",
   "pygments_lexer": "ipython3",
   "version": "3.10.8"
  },
  "orig_nbformat": 4,
  "vscode": {
   "interpreter": {
    "hash": "e0d398e7c3cc3d2b8386dfea47f5eae3378d5d39db7e2c8ef87e93246db0bfd2"
   }
  }
 },
 "nbformat": 4,
 "nbformat_minor": 2
}
