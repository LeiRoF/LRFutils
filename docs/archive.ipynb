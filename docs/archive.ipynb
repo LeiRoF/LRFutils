{
 "cells": [
  {
   "cell_type": "markdown",
   "metadata": {},
   "source": [
    "# 🗃️ Archive"
   ]
  },
  {
   "cell_type": "code",
   "execution_count": 1,
   "metadata": {},
   "outputs": [
    {
     "name": "stdout",
     "output_type": "stream",
     "text": [
      "Archive created at ./archives/2022-10-22_14298e9/1_My archive-p1=3.14,p2=42,p3=hello\n"
     ]
    }
   ],
   "source": [
    "from LRFutils import archive\n",
    "\n",
    "parameter_1 = 3.14\n",
    "parameter_2 = 42\n",
    "parameter_3 = \"hello\"\n",
    "\n",
    "path = archive.new(\"My_archive\", verbose=True, p1=parameter_1, p2=parameter_2, p3=parameter_3)"
   ]
  }
 ],
 "metadata": {
  "kernelspec": {
   "display_name": "Python 3.10.8 64-bit",
   "language": "python",
   "name": "python3"
  },
  "language_info": {
   "codemirror_mode": {
    "name": "ipython",
    "version": 3
   },
   "file_extension": ".py",
   "mimetype": "text/x-python",
   "name": "python",
   "nbconvert_exporter": "python",
   "pygments_lexer": "ipython3",
   "version": "3.10.8"
  },
  "orig_nbformat": 4,
  "vscode": {
   "interpreter": {
    "hash": "97cc609b13305c559618ec78a438abc56230b9381f827f22d070313b9a1f3777"
   }
  }
 },
 "nbformat": 4,
 "nbformat_minor": 2
}
