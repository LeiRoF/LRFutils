{
 "cells": [
  {
   "attachments": {},
   "cell_type": "markdown",
   "metadata": {},
   "source": [
    "---\n",
    "\n",
    "# 🗃️ Archive"
   ]
  },
  {
   "cell_type": "code",
   "execution_count": 1,
   "metadata": {},
   "outputs": [
    {
     "name": "stdout",
     "output_type": "stream",
     "text": [
      "Archive created at ./archives/2023-02-03_875a360/4_Simu-L=2,z=3.14,state=solid\n"
     ]
    }
   ],
   "source": [
    "from LRFutils import archive\n",
    "\n",
    "L = 2\n",
    "z = 3.14\n",
    "state = \"solid\"\n",
    "\n",
    "archivePath = archive.new(\"Simu\", verbose=True, L=L, z=z, state=state)\n",
    "\n",
    "with open(f\"{archivePath}/test.txt\", \"w\") as f:\n",
    "    f.write(f\"A {state} state with L={L} and z={z} give the result: {L*z}.\\n\")\n",
    "    f.write(\"Don't search the meaning, it's just a random example.\")"
   ]
  },
  {
   "attachments": {},
   "cell_type": "markdown",
   "metadata": {},
   "source": [
    "---\n",
    "\n",
    "# 🎨 Color"
   ]
  },
  {
   "cell_type": "code",
   "execution_count": 2,
   "metadata": {},
   "outputs": [
    {
     "name": "stdout",
     "output_type": "stream",
     "text": [
      "\u001b[31mHello world!\u001b[0m\n",
      "\u001b[32mHello world!\u001b[0m\n",
      "\u001b[93m\u001b[45mHello world!\u001b[0m\u001b[0m\n"
     ]
    }
   ],
   "source": [
    "from LRFutils import color\n",
    "\n",
    "print(color.red(\"Hello world!\"))\n",
    "print(color.green(\"Hello world!\"))\n",
    "print(color.yellow(color.on_purple(\"Hello world!\")))"
   ]
  },
  {
   "attachments": {},
   "cell_type": "markdown",
   "metadata": {},
   "source": [
    "---\n",
    "\n",
    "# 📜 Logs"
   ]
  },
  {
   "cell_type": "code",
   "execution_count": 3,
   "metadata": {},
   "outputs": [
    {
     "name": "stdout",
     "output_type": "stream",
     "text": [
      "\u001b[34m03/02/2023\u001b[0m at \u001b[35m10:00:47\u001b[0m | \u001b[32m[INFO] \u001b[0mHello world!\n",
      "\u001b[34m03/02/2023\u001b[0m at \u001b[35m10:00:47\u001b[0m | \u001b[93m[WARNING] Hello world!\u001b[0m\n",
      "\u001b[34m03/02/2023\u001b[0m at \u001b[35m10:00:47\u001b[0m | \u001b[41m[ERROR]\u001b[0m\u001b[31m Hello world!\u001b[0m\n",
      " -> Look at \u001b[32mlogs/2023-02-03_10.00.47.123940.log\u001b[0m for more information.\n",
      "\n"
     ]
    }
   ],
   "source": [
    "from LRFutils import logs\n",
    "\n",
    "logs.info(\"Hello world!\")\n",
    "logs.warn(\"Hello world!\")\n",
    "logs.error(\"Hello world!\")"
   ]
  },
  {
   "attachments": {},
   "cell_type": "markdown",
   "metadata": {},
   "source": [
    "---\n",
    "\n",
    "# ⌛ Progress"
   ]
  },
  {
   "cell_type": "code",
   "execution_count": 4,
   "metadata": {},
   "outputs": [
    {
     "name": "stdout",
     "output_type": "stream",
     "text": [
      "\u001b[92m━━━━━━━━━━━━━━━━━━━━━━━━━━━━━━━━━━━━━━━━━━━━━━━━━━━━━━━━━ \u001b[92m100% \u001b[91m1000/1000 \u001b[35m0:00:15\u001b[0mta \u001b[34m0:00:00\u001b[0m\n",
      "\u001b[0mThe best bar \u001b[93m━━━━━━━━━━━━━━━━━━━━━━━━━━━━━\u001b[93m╸\u001b[37m━━━━━━━━━━━━━━━━ \u001b[93m64% \u001b[91m642/1000 \u001b[35m0:00:11\u001b[0m00:05\u001b[0m\n",
      "\u001b[0mWaw, another incredible bar \u001b[92m━━━━━━━━━━━━━━━━━━━━━━━━━━━━━ \u001b[92m100% \u001b[91m1000/1000 \u001b[35m0:00:15\u001b[0mta \u001b[34m0:00:00\u001b[0m\n"
     ]
    }
   ],
   "source": [
    "from LRFutils import progress\n",
    "import time\n",
    "\n",
    "N = 1000\n",
    "\n",
    "a = progress.Bar(max = N)\n",
    "\n",
    "for i in range(N):\n",
    "    a(i+1)\n",
    "    time.sleep(0.01)\n",
    "\n",
    "a = progress.Bar(prefix = \"The best bar\", max = N)\n",
    "\n",
    "for i in range(N):\n",
    "    a(i+1, prefix=i if i<N/2 else None)\n",
    "    if i == N-300:\n",
    "        a.stop()\n",
    "        break\n",
    "    time.sleep(0.01)\n",
    "\n",
    "a = progress.Bar(prefix = \"Waw, another incredible bar\", max = N)\n",
    "\n",
    "for i in range(N):\n",
    "    a(i+1)\n",
    "    time.sleep(0.01)"
   ]
  }
 ],
 "metadata": {
  "kernelspec": {
   "display_name": "venv",
   "language": "python",
   "name": "python3"
  },
  "language_info": {
   "codemirror_mode": {
    "name": "ipython",
    "version": 3
   },
   "file_extension": ".py",
   "mimetype": "text/x-python",
   "name": "python",
   "nbconvert_exporter": "python",
   "pygments_lexer": "ipython3",
   "version": "3.10.9"
  },
  "orig_nbformat": 4,
  "vscode": {
   "interpreter": {
    "hash": "c962a7c237ea160d00a671d3806e084c023cec6174787f3934d1dbcc77434486"
   }
  }
 },
 "nbformat": 4,
 "nbformat_minor": 2
}
