{
 "cells": [
  {
   "attachments": {},
   "cell_type": "markdown",
   "metadata": {},
   "source": [
    "---\n",
    "\n",
    "# 🗃️ Archive"
   ]
  },
  {
   "cell_type": "code",
   "execution_count": 1,
   "metadata": {},
   "outputs": [],
   "source": [
    "from LRFutils import archive\n",
    "\n",
    "L = 2\n",
    "z = 3.14\n",
    "state = \"solid\"\n",
    "\n",
    "archivePath = archive.new(\"Simu\", verbose=True, L=L, z=z, state=state)\n",
    "\n",
    "with open(f\"{archivePath}/test.txt\", \"w\") as f:\n",
    "    f.write(f\"A {state} state with L={L} and z={z} give the result: {L*z}.\\n\")\n",
    "    f.write(\"Don't search the meaning, it's just a random example.\")"
   ]
  },
  {
   "attachments": {},
   "cell_type": "markdown",
   "metadata": {},
   "source": [
    "---\n",
    "\n",
    "# Color"
   ]
  },
  {
   "cell_type": "code",
   "execution_count": 2,
   "metadata": {},
   "outputs": [
    {
     "name": "stdout",
     "output_type": "stream",
     "text": [
      "\u001b[31mHello world!\u001b[0m\n",
      "\u001b[32mHello world!\u001b[0m\n",
      "\u001b[93m\u001b[45mHello world!\u001b[0m\u001b[0m\n"
     ]
    }
   ],
   "source": [
    "from LRFutils import color\n",
    "\n",
    "print(color.red(\"Hello world!\"))\n",
    "print(color.green(\"Hello world!\"))\n",
    "print(color.yellow(color.on_purple(\"Hello world!\")))"
   ]
  },
  {
   "attachments": {},
   "cell_type": "markdown",
   "metadata": {},
   "source": [
    "---\n",
    "\n",
    "# Logs"
   ]
  },
  {
   "cell_type": "code",
   "execution_count": 3,
   "metadata": {},
   "outputs": [
    {
     "name": "stdout",
     "output_type": "stream",
     "text": [
      "\u001b[34m03/02/2023\u001b[0m at \u001b[35m09:56:39\u001b[0m | \u001b[32m[INFO] \u001b[0mHello world!\n",
      "\u001b[34m03/02/2023\u001b[0m at \u001b[35m09:56:39\u001b[0m | \u001b[93m[WARNING] Hello world!\u001b[0m\n",
      "\u001b[34m03/02/2023\u001b[0m at \u001b[35m09:56:39\u001b[0m | \u001b[41m[ERROR]\u001b[0m\u001b[31m Hello world!\u001b[0m\n",
      " -> Look at \u001b[32mlogs/2023-02-03_09.56.39.797538.log\u001b[0m for more information.\n",
      "\n"
     ]
    }
   ],
   "source": [
    "from LRFutils import logs\n",
    "\n",
    "logs.info(\"Hello world!\")\n",
    "logs.warn(\"Hello world!\")\n",
    "logs.error(\"Hello world!\")"
   ]
  },
  {
   "attachments": {},
   "cell_type": "markdown",
   "metadata": {},
   "source": [
    "---\n",
    "\n",
    "# Progress"
   ]
  },
  {
   "cell_type": "code",
   "execution_count": 4,
   "metadata": {},
   "outputs": [
    {
     "ename": "AttributeError",
     "evalue": "module 'LRFutils.color' has no attribute 'LightGreen'",
     "output_type": "error",
     "traceback": [
      "\u001b[1;31m---------------------------------------------------------------------------\u001b[0m",
      "\u001b[1;31mAttributeError\u001b[0m                            Traceback (most recent call last)",
      "Cell \u001b[1;32mIn[4], line 9\u001b[0m\n\u001b[0;32m      6\u001b[0m a \u001b[39m=\u001b[39m progress\u001b[39m.\u001b[39mBar(\u001b[39mmax\u001b[39m \u001b[39m=\u001b[39m N)\n\u001b[0;32m      8\u001b[0m \u001b[39mfor\u001b[39;00m i \u001b[39min\u001b[39;00m \u001b[39mrange\u001b[39m(N):\n\u001b[1;32m----> 9\u001b[0m     a(i\u001b[39m+\u001b[39;49m\u001b[39m1\u001b[39;49m)\n\u001b[0;32m     10\u001b[0m     time\u001b[39m.\u001b[39msleep(\u001b[39m0.01\u001b[39m)\n\u001b[0;32m     12\u001b[0m a \u001b[39m=\u001b[39m progress\u001b[39m.\u001b[39mBar(prefix \u001b[39m=\u001b[39m \u001b[39m\"\u001b[39m\u001b[39mThe best bar\u001b[39m\u001b[39m\"\u001b[39m, \u001b[39mmax\u001b[39m \u001b[39m=\u001b[39m N)\n",
      "File \u001b[1;32mc:\\Users\\vince\\Documents\\Dev\\Perso\\LRFutils\\src\\LRFutils\\progress.py:83\u001b[0m, in \u001b[0;36mBar.__call__\u001b[1;34m(self, progress, prefix, stop)\u001b[0m\n\u001b[0;32m     81\u001b[0m progress_normed \u001b[39m=\u001b[39m progress \u001b[39m/\u001b[39m \u001b[39mself\u001b[39m\u001b[39m.\u001b[39mmax\n\u001b[0;32m     82\u001b[0m \u001b[39mif\u001b[39;00m progress \u001b[39m==\u001b[39m \u001b[39mself\u001b[39m\u001b[39m.\u001b[39mmax : stop \u001b[39m=\u001b[39m \u001b[39mTrue\u001b[39;00m\n\u001b[1;32m---> 83\u001b[0m color_bar \u001b[39m=\u001b[39m color\u001b[39m.\u001b[39mYellow \u001b[39mif\u001b[39;00m stop \u001b[39mand\u001b[39;00m progress_normed \u001b[39m!=\u001b[39m \u001b[39m1\u001b[39m \u001b[39melse\u001b[39;00m color\u001b[39m.\u001b[39;49mLightGreen \n\u001b[0;32m     85\u001b[0m \u001b[39mif\u001b[39;00m stop: end \u001b[39m=\u001b[39m \u001b[39m\"\u001b[39m\u001b[39m\\n\u001b[39;00m\u001b[39m\"\u001b[39m\n\u001b[0;32m     86\u001b[0m \u001b[39melse\u001b[39;00m:    end \u001b[39m=\u001b[39m \u001b[39m\"\u001b[39m\u001b[39m\\r\u001b[39;00m\u001b[39m\"\u001b[39m\n",
      "\u001b[1;31mAttributeError\u001b[0m: module 'LRFutils.color' has no attribute 'LightGreen'"
     ]
    }
   ],
   "source": [
    "from LRFutils import progress\n",
    "import time\n",
    "\n",
    "N = 1000\n",
    "\n",
    "a = progress.Bar(max = N)\n",
    "\n",
    "for i in range(N):\n",
    "    a(i+1)\n",
    "    time.sleep(0.01)\n",
    "\n",
    "a = progress.Bar(prefix = \"The best bar\", max = N)\n",
    "\n",
    "for i in range(N):\n",
    "    a(i+1, prefix=i if i<N/2 else None)\n",
    "    if i == N-300:\n",
    "        a.stop()\n",
    "        break\n",
    "    time.sleep(0.01)\n",
    "\n",
    "a = progress.Bar(prefix = \"Waw, another incredible bar\", max = N)\n",
    "\n",
    "for i in range(N):\n",
    "    a(i+1)\n",
    "    time.sleep(0.01)"
   ]
  }
 ],
 "metadata": {
  "kernelspec": {
   "display_name": "venv",
   "language": "python",
   "name": "python3"
  },
  "language_info": {
   "codemirror_mode": {
    "name": "ipython",
    "version": 3
   },
   "file_extension": ".py",
   "mimetype": "text/x-python",
   "name": "python",
   "nbconvert_exporter": "python",
   "pygments_lexer": "ipython3",
   "version": "3.10.9"
  },
  "orig_nbformat": 4,
  "vscode": {
   "interpreter": {
    "hash": "c962a7c237ea160d00a671d3806e084c023cec6174787f3934d1dbcc77434486"
   }
  }
 },
 "nbformat": 4,
 "nbformat_minor": 2
}
